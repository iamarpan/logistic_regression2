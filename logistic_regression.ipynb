{
 "cells": [
  {
   "cell_type": "markdown",
   "metadata": {
    "colab_type": "text",
    "id": "53z-vwAQIeaS"
   },
   "source": [
    "# **Logistic Regression**\n",
    "\n",
    "In this notebook we are going to implement logistic regression for binary classification using numpy and pandas.\n",
    "We will try to identify whether a student will get admitted to university based on marks in previous two exams."
   ]
  },
  {
   "cell_type": "code",
   "execution_count": 17,
   "metadata": {
    "colab": {},
    "colab_type": "code",
    "id": "Pfv0j65_ux6i"
   },
   "outputs": [],
   "source": [
    "import pandas as pd\n",
    "import matplotlib.pyplot as plt\n",
    "import numpy as np"
   ]
  },
  {
   "cell_type": "markdown",
   "metadata": {
    "colab_type": "text",
    "id": "_xsHIX3JI8DZ"
   },
   "source": [
    "**Learning about the Dataset** \n",
    "\n",
    "The first and foremost thing to do before starting any machine learning task is to understand the dataset.\n",
    "The dataset we are going to use consists of two features namely `exam1 score` and `exam2 score`. The labels tells us whether they were admitted into the university or not(1 = admitted, 0 = not admitted).\n"
   ]
  },
  {
   "cell_type": "code",
   "execution_count": 18,
   "metadata": {
    "colab": {
     "base_uri": "https://localhost:8080/",
     "height": 204
    },
    "colab_type": "code",
    "id": "OI6hHBf0u3jo",
    "outputId": "2b2cbd5f-c99e-44f1-cc26-639935b38410"
   },
   "outputs": [
    {
     "data": {
      "text/html": [
       "<div>\n",
       "<style scoped>\n",
       "    .dataframe tbody tr th:only-of-type {\n",
       "        vertical-align: middle;\n",
       "    }\n",
       "\n",
       "    .dataframe tbody tr th {\n",
       "        vertical-align: top;\n",
       "    }\n",
       "\n",
       "    .dataframe thead th {\n",
       "        text-align: right;\n",
       "    }\n",
       "</style>\n",
       "<table border=\"1\" class=\"dataframe\">\n",
       "  <thead>\n",
       "    <tr style=\"text-align: right;\">\n",
       "      <th></th>\n",
       "      <th>x1</th>\n",
       "      <th>x2</th>\n",
       "      <th>y</th>\n",
       "    </tr>\n",
       "  </thead>\n",
       "  <tbody>\n",
       "    <tr>\n",
       "      <th>0</th>\n",
       "      <td>34.623660</td>\n",
       "      <td>78.024693</td>\n",
       "      <td>0</td>\n",
       "    </tr>\n",
       "    <tr>\n",
       "      <th>1</th>\n",
       "      <td>30.286711</td>\n",
       "      <td>43.894998</td>\n",
       "      <td>0</td>\n",
       "    </tr>\n",
       "    <tr>\n",
       "      <th>2</th>\n",
       "      <td>35.847409</td>\n",
       "      <td>72.902198</td>\n",
       "      <td>0</td>\n",
       "    </tr>\n",
       "    <tr>\n",
       "      <th>3</th>\n",
       "      <td>60.182599</td>\n",
       "      <td>86.308552</td>\n",
       "      <td>1</td>\n",
       "    </tr>\n",
       "    <tr>\n",
       "      <th>4</th>\n",
       "      <td>79.032736</td>\n",
       "      <td>75.344376</td>\n",
       "      <td>1</td>\n",
       "    </tr>\n",
       "  </tbody>\n",
       "</table>\n",
       "</div>"
      ],
      "text/plain": [
       "          x1         x2  y\n",
       "0  34.623660  78.024693  0\n",
       "1  30.286711  43.894998  0\n",
       "2  35.847409  72.902198  0\n",
       "3  60.182599  86.308552  1\n",
       "4  79.032736  75.344376  1"
      ]
     },
     "execution_count": 18,
     "metadata": {},
     "output_type": "execute_result"
    }
   ],
   "source": [
    "data = pd.read_csv(\"./data/marks.txt\",names=['x1','x2','y'])\n",
    "data.head()"
   ]
  },
  {
   "cell_type": "markdown",
   "metadata": {
    "colab_type": "text",
    "id": "HoVTUjCAKeUe"
   },
   "source": [
    "**Plotting the dataset**\n",
    "\n",
    "Before getting our hands dirty with the dataset, lets try and visualize it using matplotlib library.\n",
    "The visualisation is done in the following steps:\n",
    "1) separate the two classes\n",
    "\n",
    "*   *idx1_1*: represents examples of students with \n",
    "labels =1(admitted)\n",
    "* *idx_0*: represents examples of students with labels=0(not admitted)\n",
    "\n",
    "2) Plotting the classes\n",
    "\n",
    "*   The red markers represent class 1(admitted)\n",
    "*   The blue marker represent class 0(not admitted)\n",
    "\n",
    "\n",
    "\n",
    "\n",
    "  \n"
   ]
  },
  {
   "cell_type": "code",
   "execution_count": 19,
   "metadata": {
    "colab": {
     "base_uri": "https://localhost:8080/",
     "height": 279
    },
    "colab_type": "code",
    "id": "7vWmYuyBwcKM",
    "outputId": "5e42052f-199e-43e1-cc43-0fe8c31a2111"
   },
   "outputs": [
    {
     "data": {
      "image/png": "[encoded data removed]",
      "text/plain": [
       "<Figure size 432x288 with 1 Axes>"
      ]
     },
     "metadata": {
      "needs_background": "light"
     },
     "output_type": "display_data"
    }
   ],
   "source": [
    "idx_1 = np.where(data.y ==1)\n",
    "idx_0 = np.where(data.y==0)\n",
    "feature1 = plt.scatter(data.iloc[idx_1].x1,data.iloc[idx_1].x2,marker='x',c='r')\n",
    "feature2 = plt.scatter(data.iloc[idx_0].x1,data.iloc[idx_0].x2,marker='o',c='b')\n",
    "plt.legend((feature1,feature2),('Admitted','Not Admitted'))\n",
    "plt.xlabel(\"Exam 1 score\")\n",
    "plt.ylabel(\"Exam 2 score\")\n",
    "plt.show()"
   ]
  },
  {
   "cell_type": "markdown",
   "metadata": {
    "colab_type": "text",
    "id": "KUlW94iCL69u"
   },
   "source": [
    "**Data Normalization**\n",
    "\n",
    "One of the most important thing in feature engineering is normalization. We need to make sure that all the features and labels value lie in the range `-2<x<2` (this is my preferred range). This will help gradient descent algorithm to converge fast.\n",
    "\n",
    "The normalisation equation:\n",
    "      \n",
    "$$ c=(x^{(i)} - \\mu )/\\sigma $$\n",
    "\n",
    "Where $x^{(i)}$ is the $i^{(th)}$ example\n",
    "$ \\mu$ is the mean of the feature and\n",
    "$\\sigma$ is the standard deviation of the feature\n",
    "     "
   ]
  },
  {
   "cell_type": "code",
   "execution_count": 20,
   "metadata": {
    "colab": {},
    "colab_type": "code",
    "id": "NZdAQZbb0CBX"
   },
   "outputs": [],
   "source": [
    "def normalizeData(features):\n",
    "  mean1 = np.sum(features[:,0])/len(features[:,0])\n",
    "  mean2 = np.sum(features[:,1])/len(features[:,1])\n",
    "  std1 = np.std(features[:,0])\n",
    "  std2 = np.std(features[:,1])\n",
    "  features[:,0] = (features[:,0]-mean1)/std1\n",
    "  features[:,1] = (features[:,1]-mean2)/std2\n",
    "  return features"
   ]
  },
  {
   "cell_type": "markdown",
   "metadata": {
    "colab_type": "text",
    "id": "I0mtF1gUPd4X"
   },
   "source": [
    "**Preparing the data**\n",
    "\n",
    "Next task is to take the pandas data and convert it into numpy array.\n",
    "Following steps are followed while preparing the data\n",
    "\n",
    "*   Make a numpy array of (100,2) for features and get them normalized.\n",
    "*   Make a numpy array of(100,1) for labels. No need to normalize because they are already {0,1}.\n",
    "\n"
   ]
  },
  {
   "cell_type": "code",
   "execution_count": 21,
   "metadata": {
    "colab": {},
    "colab_type": "code",
    "id": "Gx-X2fEB3MBX"
   },
   "outputs": [],
   "source": [
    "def dataPreparation(data):\n",
    "  features = normalizeData(np.array(data[['x1','x2']],dtype='float32'))\n",
    "  labels = np.array(data[['y']],dtype='float32')\n",
    "  return (features,labels)\n"
   ]
  },
  {
   "attachments": {
    "sigmoid.png": {
     "image/png": "[encoded data removed]"
    }
   },
   "cell_type": "markdown",
   "metadata": {
    "colab_type": "text",
    "id": "zewWzqt1QDKv"
   },
   "source": [
    "**Sigmoid function**\n",
    "\n",
    "The sigmoid function also known as the activation function takes our hypothesis value and modify it to be in the range of {0,1}. This is done because the hypothesis actually represent the probability of finding a particular class and since probalility of something lies between 0<=x<=1,we use sigmoid or logistic function. Because of this function the model gets the name of logistic regression.\n",
    "\n",
    "Sigmoid function is represented as:\n",
    "$$ h_ \\theta (x) =  \\frac{\\mathrm{1} }{\\mathrm{1} + e^- \\theta^Tx }  $$ \n",
    "\n",
    "\n",
    "![sigmoid.png](attachment:sigmoid.png)"
   ]
  },
  {
   "cell_type": "code",
   "execution_count": 22,
   "metadata": {
    "colab": {},
    "colab_type": "code",
    "id": "zz_PqVquyPA1"
   },
   "outputs": [],
   "source": [
    "def sigmoid(features,theta):\n",
    "  hypothesis = -1.0*np.dot(features,theta)\n",
    "  value = 1.0/(1.0 + np.exp(hypothesis))\n",
    "  return value"
   ]
  },
  {
   "cell_type": "markdown",
   "metadata": {},
   "source": [
    "**Cost Function**\n",
    "\n",
    "Cost function helps us in finding the difference between the predicted value and actual value and based on thatwe either penalise or reward our hypothesis. For logistic regression we use the following cost function: \n",
    "$$J(\\theta)=-\\frac{1}{m}\\sum_{i=1}^{m}y^{i}\\log(h_\\theta(x^{i}))+(1-y^{i})\\log(1-h_\\theta(x^{i}))$$\n",
    "\n"
   ]
  },
  {
   "cell_type": "code",
   "execution_count": 23,
   "metadata": {
    "colab": {},
    "colab_type": "code",
    "id": "835zXMG51XcX"
   },
   "outputs": [],
   "source": [
    "def costFunction(features,labels,theta):\n",
    "  m = len(labels)\n",
    "  hypothesis = sigmoid(features,theta.T) \n",
    "  cost = (-1/m)*np.sum((np.multiply(labels,np.log(hypothesis))+np.multiply((1.0-labels),(np.log(1.0-hypothesis)))))\n",
    "  return cost"
   ]
  },
  {
   "cell_type": "markdown",
   "metadata": {},
   "source": [
    "**Gradient Descent**\n",
    "\n",
    "Gradient Descent is an optimization algorithm which helps us in finding the value of Q for which the cost function is minimum. The gradient descent equation is as follows:\n",
    "$$ \\theta_j:=\\theta_j-\\alpha\\frac{\\partial}{\\partial\\theta_j}f(\\theta_0,\\theta_1)\\mbox{ for j=0,1}$$\n",
    "\n",
    "Here:\n",
    "$\\alpha$ represents the learning rate.\n",
    "\n",
    "$\\frac{\\partial}{\\partial\\theta_j}$ represents the derivative of the cost function w.r.t  Q"
   ]
  },
  {
   "cell_type": "code",
   "execution_count": 24,
   "metadata": {
    "colab": {},
    "colab_type": "code",
    "id": "-763WM2kOLSO"
   },
   "outputs": [],
   "source": [
    "def gradientDescent(features,labels,theta,learning_rate):\n",
    "  m =len(labels)\n",
    "  temp0 = theta[0][0] - (learning_rate/m)*(np.sum(np.multiply(sigmoid(features,theta.T)-labels,features[:,0].reshape(len(features[:,0]),1))))\n",
    "  temp1 = theta[0][1] - (learning_rate/m)*(np.sum(np.multiply(sigmoid(features,theta.T)-labels,features[:,1].reshape(len(features[:,1]),1))))\n",
    "  return (temp0,temp1)"
   ]
  },
  {
   "cell_type": "markdown",
   "metadata": {},
   "source": [
    "**Running the Algorithm**\n",
    "Finally we'll the model with the following hyperparameters\n",
    "learning_rate($\\alpha$): 0.01\n",
    "No. of iterations(epoch):1000\n",
    "\n",
    "We can tune around these hyperparameters to see how our learning algorithm behaves"
   ]
  },
  {
   "cell_type": "code",
   "execution_count": 25,
   "metadata": {
    "colab": {},
    "colab_type": "code",
    "id": "mBrrn24256y4"
   },
   "outputs": [],
   "source": [
    "def run():\n",
    "  theta = np.array([1,2],dtype='float32').reshape(1,2)\n",
    "  cost_array = []\n",
    "  learning_rate = 0.01\n",
    "  epoch = 1000\n",
    "  features,labels = dataPreparation(data)\n",
    "  for a in range(epoch):\n",
    "    temp0,temp1 = gradientDescent(features,labels,theta,learning_rate)\n",
    "    theta = np.array([temp0,temp1],dtype='float32').reshape(1,2)\n",
    "    cost = costFunction(features,labels,theta)\n",
    "    cost_array.append(cost)\n",
    "  plt.plot(range(epoch),cost_array)\n",
    "  plt.xlabel(\"no of iterations\")\n",
    "  plt.ylabel(\"J(Q) Cost Function\")\n",
    "  plt.title(\"No.of Iterations V/s Cost Function\")"
   ]
  },
  {
   "cell_type": "markdown",
   "metadata": {},
   "source": [
    "**Finally**\n",
    "\n",
    "We'll plot a graph between `no. of iterations` V/S `Cost Function`. If the cost is decreasing with no. of iterations, this shows that our gradient descent is doing it's job."
   ]
  },
  {
   "cell_type": "code",
   "execution_count": 26,
   "metadata": {
    "colab": {
     "base_uri": "https://localhost:8080/",
     "height": 295
    },
    "colab_type": "code",
    "id": "cuFxHIsI6KQv",
    "outputId": "1091f367-bf57-4752-d2e5-3b465e200559"
   },
   "outputs": [
    {
     "data": {
      "image/png": "[encoded data removed]",
      "text/plain": [
       "<Figure size 432x288 with 1 Axes>"
      ]
     },
     "metadata": {
      "needs_background": "light"
     },
     "output_type": "display_data"
    }
   ],
   "source": [
    "run()"
   ]
  },
  {
   "cell_type": "code",
   "execution_count": null,
   "metadata": {},
   "outputs": [],
   "source": []
  },
  {
   "cell_type": "code",
   "execution_count": null,
   "metadata": {},
   "outputs": [],
   "source": []
  }
 ],
 "metadata": {
  "colab": {
   "collapsed_sections": [],
   "name": "Logistic Regression.ipynb",
   "provenance": [],
   "toc_visible": true
  },
  "kernelspec": {
   "display_name": "Python 3",
   "language": "python",
   "name": "python3"
  },
  "language_info": {
   "codemirror_mode": {
    "name": "ipython",
    "version": 3
   },
   "file_extension": ".py",
   "mimetype": "text/x-python",
   "name": "python",
   "nbconvert_exporter": "python",
   "pygments_lexer": "ipython3",
   "version": "3.7.1"
  }
 },
 "nbformat": 4,
 "nbformat_minor": 1
}
